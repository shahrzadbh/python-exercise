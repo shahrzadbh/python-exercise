{
  "nbformat": 4,
  "nbformat_minor": 0,
  "metadata": {
    "colab": {
      "provenance": []
    },
    "kernelspec": {
      "name": "python3",
      "display_name": "Python 3"
    },
    "language_info": {
      "name": "python"
    }
  },
  "cells": [
    {
      "cell_type": "code",
      "execution_count": 2,
      "metadata": {
        "colab": {
          "base_uri": "https://localhost:8080/",
          "height": 17
        },
        "id": "APfYywWvkjoE",
        "outputId": "c67713dd-3591-42dd-8d03-defc48a96677"
      },
      "outputs": [
        {
          "output_type": "display_data",
          "data": {
            "text/plain": [
              "<IPython.core.display.Javascript object>"
            ],
            "application/javascript": [
              "\n",
              "    async function download(id, filename, size) {\n",
              "      if (!google.colab.kernel.accessAllowed) {\n",
              "        return;\n",
              "      }\n",
              "      const div = document.createElement('div');\n",
              "      const label = document.createElement('label');\n",
              "      label.textContent = `Downloading \"${filename}\": `;\n",
              "      div.appendChild(label);\n",
              "      const progress = document.createElement('progress');\n",
              "      progress.max = size;\n",
              "      div.appendChild(progress);\n",
              "      document.body.appendChild(div);\n",
              "\n",
              "      const buffers = [];\n",
              "      let downloaded = 0;\n",
              "\n",
              "      const channel = await google.colab.kernel.comms.open(id);\n",
              "      // Send a message to notify the kernel that we're ready.\n",
              "      channel.send({})\n",
              "\n",
              "      for await (const message of channel.messages) {\n",
              "        // Send a message to notify the kernel that we're ready.\n",
              "        channel.send({})\n",
              "        if (message.buffers) {\n",
              "          for (const buffer of message.buffers) {\n",
              "            buffers.push(buffer);\n",
              "            downloaded += buffer.byteLength;\n",
              "            progress.value = downloaded;\n",
              "          }\n",
              "        }\n",
              "      }\n",
              "      const blob = new Blob(buffers, {type: 'application/binary'});\n",
              "      const a = document.createElement('a');\n",
              "      a.href = window.URL.createObjectURL(blob);\n",
              "      a.download = filename;\n",
              "      div.appendChild(a);\n",
              "      a.click();\n",
              "      div.remove();\n",
              "    }\n",
              "  "
            ]
          },
          "metadata": {}
        },
        {
          "output_type": "display_data",
          "data": {
            "text/plain": [
              "<IPython.core.display.Javascript object>"
            ],
            "application/javascript": [
              "download(\"download_ec130c11-1abb-4bb8-ab05-98c5ac60fb83\", \"output.csv\", 1258665)"
            ]
          },
          "metadata": {}
        }
      ],
      "source": [
        "import pandas as pd\n",
        "from google.colab import files\n",
        "\n",
        "# Define the input file paths and output file path\n",
        "input_files = ['/content/drive/MyDrive/Colab Notebooks/ok/final copy.csv', '/content/drive/MyDrive/Colab Notebooks/ok/new_file2.csv', '/content/drive/MyDrive/Colab Notebooks/ok/data_labeled.csv']\n",
        "output_file = '/content/drive/MyDrive/Colab Notebooks/ok/output.csv'\n",
        "\n",
        "# Read the input files into dataframes\n",
        "dfs = [pd.read_csv(file, encoding=\"utf-8\") for file in input_files]\n",
        "\n",
        "# Concatenate the dataframes\n",
        "concatenated_df = pd.concat(dfs)\n",
        "\n",
        "# Write the concatenated dataframe to a CSV file\n",
        "concatenated_df.to_csv(output_file, index=False, encoding=\"utf-8-sig\")\n",
        "\n",
        "# Download the output file\n",
        "files.download(output_file)"
      ]
    }
  ]
}