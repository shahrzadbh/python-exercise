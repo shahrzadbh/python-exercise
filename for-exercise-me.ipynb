{
 "cells": [
  {
   "cell_type": "code",
   "execution_count": 1,
   "id": "c0274c1a",
   "metadata": {},
   "outputs": [
    {
     "data": {
      "text/plain": [
       "'A for loop allows Python to keep repeating code a set number of times. It is sometimes known as a counting loop because you know the number of times the loop will run before it starts.'"
      ]
     },
     "execution_count": 1,
     "metadata": {},
     "output_type": "execute_result"
    }
   ],
   "source": [
    "#for Loop\n",
    "'''A for loop allows Python to keep repeating code a set number of times. It is sometimes known as a counting loop because you know the number of times the loop will run before it starts.'''"
   ]
  },
  {
   "cell_type": "code",
   "execution_count": 2,
   "id": "ccde1e3e",
   "metadata": {},
   "outputs": [
    {
     "name": "stdout",
     "output_type": "stream",
     "text": [
      "Hi Python\n",
      "Hi Python\n",
      "Hi Python\n",
      "Hi Python\n",
      "Hi Python\n",
      "Hi Python\n",
      "Hi Python\n",
      "Hi Python\n",
      "Hi Python\n"
     ]
    }
   ],
   "source": [
    "#When it gets to 10 the loop would stop so 10 would not be shown in the output\n",
    "for i in range(1,10):\n",
    "   print('Hi Python')"
   ]
  },
  {
   "cell_type": "code",
   "execution_count": 3,
   "id": "5e8bdb31",
   "metadata": {},
   "outputs": [
    {
     "name": "stdout",
     "output_type": "stream",
     "text": [
      "1\n",
      "3\n",
      "5\n",
      "7\n",
      "9\n"
     ]
    }
   ],
   "source": [
    "for i in range(1,10,2):\n",
    " print(i)"
   ]
  },
  {
   "cell_type": "code",
   "execution_count": 4,
   "id": "4898e955",
   "metadata": {},
   "outputs": [
    {
     "name": "stdout",
     "output_type": "stream",
     "text": [
      "10\n",
      "7\n",
      "4\n"
     ]
    }
   ],
   "source": [
    "for i in range(10,1,-3):\n",
    " print(i)"
   ]
  },
  {
   "cell_type": "code",
   "execution_count": 5,
   "id": "e7ff8cec",
   "metadata": {},
   "outputs": [
    {
     "name": "stdout",
     "output_type": "stream",
     "text": [
      "H\n",
      "i\n",
      " \n",
      "P\n",
      "y\n",
      "t\n",
      "h\n",
      "o\n",
      "n\n"
     ]
    }
   ],
   "source": [
    "word='Hi Python'\n",
    "for i in word:\n",
    " print(i)"
   ]
  },
  {
   "cell_type": "code",
   "execution_count": 6,
   "id": "978bb5fd",
   "metadata": {},
   "outputs": [
    {
     "name": "stdout",
     "output_type": "stream",
     "text": [
      "enter your name?shb\n",
      "shb\n",
      "shb\n",
      "shb\n"
     ]
    }
   ],
   "source": [
    "name=input('enter your name?')\n",
    "for i in range(3):\n",
    "    print(name)"
   ]
  },
  {
   "cell_type": "code",
   "execution_count": 7,
   "id": "56810f8d",
   "metadata": {},
   "outputs": [
    {
     "name": "stdout",
     "output_type": "stream",
     "text": [
      "enter your name?shb\n",
      "enter your number?3\n",
      "shb\n",
      "shb\n",
      "shb\n"
     ]
    }
   ],
   "source": [
    "name=input('enter your name?')\n",
    "number=int(input('enter your number?'))\n",
    "for i in range(number):\n",
    "    print(name)"
   ]
  },
  {
   "cell_type": "code",
   "execution_count": 8,
   "id": "5bb62823",
   "metadata": {},
   "outputs": [
    {
     "name": "stdout",
     "output_type": "stream",
     "text": [
      "enter your name?shb\n",
      "s\n",
      "h\n",
      "b\n"
     ]
    }
   ],
   "source": [
    "name=input('enter your name?')\n",
    "for i in name:\n",
    "    print(i)"
   ]
  },
  {
   "cell_type": "code",
   "execution_count": 9,
   "id": "af63cb63",
   "metadata": {},
   "outputs": [
    {
     "name": "stdout",
     "output_type": "stream",
     "text": [
      "enter your name?shb\n",
      "print your number?2\n",
      "s\n",
      "h\n",
      "b\n",
      "s\n",
      "h\n",
      "b\n"
     ]
    }
   ],
   "source": [
    "name=input('enter your name?')\n",
    "number=int(input('print your number?'))\n",
    "for x in range(number):\n",
    "    for i in name:\n",
    "      print(i)"
   ]
  },
  {
   "cell_type": "code",
   "execution_count": 10,
   "id": "c0039cfe",
   "metadata": {},
   "outputs": [
    {
     "name": "stdout",
     "output_type": "stream",
     "text": [
      "enter number az 1 ta 13?  4\n",
      "1 x 4 = 4\n",
      "2 x 4 = 44\n",
      "3 x 4 = 444\n",
      "4 x 4 = 4444\n",
      "5 x 4 = 44444\n",
      "6 x 4 = 444444\n",
      "7 x 4 = 4444444\n",
      "8 x 4 = 44444444\n",
      "9 x 4 = 444444444\n",
      "10 x 4 = 4444444444\n",
      "11 x 4 = 44444444444\n",
      "12 x 4 = 444444444444\n"
     ]
    }
   ],
   "source": [
    "#times table\n",
    "number=input('enter number az 1 ta 13?  ')\n",
    "for i in range(1,13):\n",
    "    ans=i*number\n",
    "    print(i,'x',number,'=',ans)"
   ]
  },
  {
   "cell_type": "code",
   "execution_count": 11,
   "id": "05a25222",
   "metadata": {},
   "outputs": [
    {
     "name": "stdout",
     "output_type": "stream",
     "text": [
      "enter number below 50?  41\n",
      "50\n",
      "49\n",
      "48\n",
      "47\n",
      "46\n",
      "45\n",
      "44\n",
      "43\n",
      "42\n",
      "41\n"
     ]
    }
   ],
   "source": [
    "'''Ask for a number below 50 and then count down from 50 to that number, making sure you show the number they entered in the output.'''\n",
    "\n",
    "number=int(input('enter number below 50?  '))\n",
    "for i in range(50,number-1,-1):\n",
    "    print(i)"
   ]
  },
  {
   "cell_type": "code",
   "execution_count": 12,
   "id": "1abfb96a",
   "metadata": {},
   "outputs": [
    {
     "name": "stdout",
     "output_type": "stream",
     "text": [
      "enter your name? shb\n",
      "enter your number? 5\n",
      "shb\n",
      "shb\n",
      "shb\n",
      "shb\n",
      "shb\n"
     ]
    }
   ],
   "source": [
    "name=input('enter your name? ')\n",
    "number=int(input('enter your number? '))\n",
    "if number < 10:\n",
    "    for i in range(0,number):\n",
    "         print(name)\n",
    "else:\n",
    "    for i in range(0,3):\n",
    "         print('Too high')"
   ]
  },
  {
   "cell_type": "code",
   "execution_count": 13,
   "id": "ede775c3",
   "metadata": {},
   "outputs": [
    {
     "name": "stdout",
     "output_type": "stream",
     "text": [
      "enter a number ?  3\n",
      "Do you want this number included? (y/n) y\n",
      "enter a number ?  4\n",
      "Do you want this number included? (y/n) y\n",
      "enter a number ?  8\n",
      "Do you want this number included? (y/n) n\n",
      "enter a number ?  5\n",
      "Do you want this number included? (y/n) y\n",
      "enter a number ?  2\n",
      "Do you want this number included? (y/n) y\n",
      "14\n"
     ]
    }
   ],
   "source": [
    "total=0\n",
    "for i in range(0,5):\n",
    "    number=int(input('enter a number ?  '))\n",
    "    ans=input('Do you want this number included? (y/n) ')\n",
    "    if ans== 'y' :\n",
    "        total=total+number\n",
    "print(total)\n",
    "    "
   ]
  },
  {
   "cell_type": "code",
   "execution_count": 14,
   "id": "f2ac8baf",
   "metadata": {},
   "outputs": [
    {
     "name": "stdout",
     "output_type": "stream",
     "text": [
      " Do you want to count up or down?  (up/down)? up\n",
      "what is top number ?  15\n",
      "1\n",
      "2\n",
      "3\n",
      "4\n",
      "5\n",
      "6\n",
      "7\n",
      "8\n",
      "9\n",
      "10\n",
      "11\n",
      "12\n",
      "13\n",
      "14\n",
      "15\n"
     ]
    }
   ],
   "source": [
    "direction=input(' Do you want to count up or down?  (up/down)? ')\n",
    "if direction == 'up':\n",
    "    number=int(input('what is top number ?  '))\n",
    "    for i in range(1,number+1):\n",
    "        print(i)\n",
    "elif direction == 'down':\n",
    "    number=int(input('enter a number down 20 ?  '))\n",
    "    for i in range(20,number-1,-1):\n",
    "        print(i)\n",
    "else:\n",
    "    print('I dont understand')"
   ]
  },
  {
   "cell_type": "code",
   "execution_count": 15,
   "id": "1c3a2f8a",
   "metadata": {},
   "outputs": [
    {
     "name": "stdout",
     "output_type": "stream",
     "text": [
      "how many friends do you want to invite to the party ?  5\n",
      "what is your name?mahsa\n",
      "mahsa has been invited\n",
      "what is your name?sima\n",
      "sima has been invited\n",
      "what is your name?mahsa\n",
      "mahsa has been invited\n",
      "what is your name?sima\n",
      "sima has been invited\n",
      "what is your name?mina\n",
      "mina has been invited\n"
     ]
    }
   ],
   "source": [
    "number=int(input('how many friends do you want to invite to the party ?  '))\n",
    "if number < 10:\n",
    "    for i in range (number):\n",
    "        name=input('what is your name?')\n",
    "        print(name,'has been invited')\n",
    "else:\n",
    "    print ('too many people')"
   ]
  },
  {
   "cell_type": "code",
   "execution_count": null,
   "id": "409c6bc1",
   "metadata": {},
   "outputs": [],
   "source": []
  }
 ],
 "metadata": {
  "kernelspec": {
   "display_name": "Python 3 (ipykernel)",
   "language": "python",
   "name": "python3"
  },
  "language_info": {
   "codemirror_mode": {
    "name": "ipython",
    "version": 3
   },
   "file_extension": ".py",
   "mimetype": "text/x-python",
   "name": "python",
   "nbconvert_exporter": "python",
   "pygments_lexer": "ipython3",
   "version": "3.10.2"
  }
 },
 "nbformat": 4,
 "nbformat_minor": 5
}
