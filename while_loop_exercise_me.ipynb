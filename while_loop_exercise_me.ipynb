{
 "cells": [
  {
   "cell_type": "code",
   "execution_count": 1,
   "id": "2f227d67",
   "metadata": {},
   "outputs": [
    {
     "data": {
      "text/plain": [
       "'A while loop allows code to be repeated an unknown number of times as long as a condition is being met'"
      ]
     },
     "execution_count": 1,
     "metadata": {},
     "output_type": "execute_result"
    }
   ],
   "source": [
    "#while loop\n",
    "'''A while loop allows code to be repeated an unknown number of times as long as a condition is being met'''"
   ]
  },
  {
   "cell_type": "code",
   "execution_count": 2,
   "id": "26c0302b",
   "metadata": {},
   "outputs": [
    {
     "name": "stdout",
     "output_type": "stream",
     "text": [
      "Enter a number: 2\n",
      "Enter a number: 4\n",
      "Enter a number: 9\n",
      "Enter a number: 100\n",
      "The total is 115\n"
     ]
    }
   ],
   "source": [
    "total = 0\n",
    "while total < 100:\n",
    "  number = int(input('Enter a number: '))\n",
    "  total = total + number\n",
    "print('The total is', total)\n"
   ]
  },
  {
   "cell_type": "code",
   "execution_count": 3,
   "id": "9029ce55",
   "metadata": {},
   "outputs": [
    {
     "name": "stdout",
     "output_type": "stream",
     "text": [
      "Enter a number: 2\n",
      "Enter a number: 3\n",
      "Enter a number: 5\n",
      "Enter a number: 15\n",
      "The last number you entered was a 15\n"
     ]
    }
   ],
   "source": [
    "number=0\n",
    "while number <= 5:\n",
    "    number = int(input('Enter a number: '))\n",
    "print('The last number you entered was a' ,number)"
   ]
  },
  {
   "cell_type": "code",
   "execution_count": 4,
   "id": "0ecb04bc",
   "metadata": {},
   "outputs": [
    {
     "name": "stdout",
     "output_type": "stream",
     "text": [
      "Enter a number: 10\n",
      "Enter a number: 5\n",
      "Do you want add another number?  (y/n)y\n",
      "Enter a number: 15\n",
      "Do you want add another number?  (y/n)n\n",
      "The total is 30\n"
     ]
    }
   ],
   "source": [
    "number1 = int(input('Enter a number: '))\n",
    "total=number1\n",
    "again='y'\n",
    "while again=='y':\n",
    "     number2 = int(input('Enter a number: '))\n",
    "     total = total + number2\n",
    "     again=input('Do you want add another number?  (y/n)')\n",
    "print('The total is', total)"
   ]
  },
  {
   "cell_type": "code",
   "execution_count": 5,
   "id": "8fa16d2b",
   "metadata": {},
   "outputs": [
    {
     "name": "stdout",
     "output_type": "stream",
     "text": [
      "Enter a name you want invite your party: sima\n",
      "sima has you be invite\n",
      "Do you want invite somebody else?  (y/n)y\n",
      "Enter a name you want invite your party: mahsa\n",
      "mahsa has you be invite\n",
      "Do you want invite somebody else?  (y/n)n\n",
      "you have count 2 people comming your party\n"
     ]
    }
   ],
   "source": [
    "count=0\n",
    "again='y'\n",
    "while again=='y':\n",
    "    name = input('Enter a name you want invite your party: ')\n",
    "    print(name,'has you be invite')\n",
    "    count = count + 1\n",
    "    again=input('Do you want invite somebody else?  (y/n)')\n",
    "print('you have count', count, 'people comming your party')"
   ]
  },
  {
   "cell_type": "code",
   "execution_count": 6,
   "id": "485e259f",
   "metadata": {},
   "outputs": [
    {
     "name": "stdout",
     "output_type": "stream",
     "text": [
      "Can you guess a number i am thinking of ? 15\n",
      "too low\n",
      "have another guess: 38\n",
      "too low\n",
      "have another guess: 55\n",
      "too hight\n",
      "have another guess: 50\n",
      "well done, you took 4 attempts\n"
     ]
    }
   ],
   "source": [
    "compnum=50\n",
    "guess = int(input('Can you guess a number i am thinking of ? '))\n",
    "count=1\n",
    "while guess !=50:\n",
    "    if guess < compnum:\n",
    "        print('too low')\n",
    "    else:\n",
    "        print('too hight')\n",
    "    count=count+1\n",
    "    guess = int(input('have another guess: '))\n",
    "print('well done, you took', count, 'attempts')\n",
    "    "
   ]
  },
  {
   "cell_type": "code",
   "execution_count": 7,
   "id": "7b642f5c",
   "metadata": {},
   "outputs": [
    {
     "name": "stdout",
     "output_type": "stream",
     "text": [
      "enter a number beetween 10 and 20 ? 6\n",
      "too low\n",
      "try again: 16\n",
      "thank you\n"
     ]
    }
   ],
   "source": [
    "number = int(input('enter a number beetween 10 and 20 ? '))\n",
    "while number <10 or number > 20:\n",
    "    if number < 10:\n",
    "        print('too low')\n",
    "    else:\n",
    "        print('too hight')\n",
    "    number = int(input('try again: '))\n",
    "print('thank you')"
   ]
  },
  {
   "cell_type": "code",
   "execution_count": null,
   "id": "4d601a95",
   "metadata": {},
   "outputs": [],
   "source": []
  }
 ],
 "metadata": {
  "kernelspec": {
   "display_name": "Python 3 (ipykernel)",
   "language": "python",
   "name": "python3"
  },
  "language_info": {
   "codemirror_mode": {
    "name": "ipython",
    "version": 3
   },
   "file_extension": ".py",
   "mimetype": "text/x-python",
   "name": "python",
   "nbconvert_exporter": "python",
   "pygments_lexer": "ipython3",
   "version": "3.10.2"
  }
 },
 "nbformat": 4,
 "nbformat_minor": 5
}
