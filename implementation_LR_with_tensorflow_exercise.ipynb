{
  "nbformat": 4,
  "nbformat_minor": 0,
  "metadata": {
    "colab": {
      "provenance": []
    },
    "kernelspec": {
      "name": "python3",
      "display_name": "Python 3"
    },
    "language_info": {
      "name": "python"
    }
  },
  "cells": [
    {
      "cell_type": "code",
      "source": [
        "import pandas as pd\n",
        "import numpy \n",
        "import tensorflow as tf\n",
        "import matplotlib.pyplot as plt\n"
      ],
      "metadata": {
        "id": "9xTcbph-zckX"
      },
      "execution_count": null,
      "outputs": []
    },
    {
      "cell_type": "code",
      "source": [
        "rng = numpy.random\n"
      ],
      "metadata": {
        "id": "67vayxbZzuM7"
      },
      "execution_count": null,
      "outputs": []
    },
    {
      "cell_type": "code",
      "source": [
        "from google.colab import drive\n",
        "drive.mount('/content/drive')"
      ],
      "metadata": {
        "colab": {
          "base_uri": "https://localhost:8080/"
        },
        "id": "Q8x1i_n00C9o",
        "outputId": "6ff69d72-26d9-4f55-cfc7-8f2b304590b7"
      },
      "execution_count": null,
      "outputs": [
        {
          "output_type": "stream",
          "name": "stdout",
          "text": [
            "Mounted at /content/drive\n"
          ]
        }
      ]
    },
    {
      "cell_type": "code",
      "source": [
        "spreadsheet = '/content/drive/MyDrive/Colab Notebooks/LR_ML.xlsx'\n",
        "\n",
        "data = pd.read_excel(spreadsheet)"
      ],
      "metadata": {
        "id": "XkbOu-1P019K"
      },
      "execution_count": null,
      "outputs": []
    },
    {
      "cell_type": "code",
      "source": [
        "data.head()"
      ],
      "metadata": {
        "colab": {
          "base_uri": "https://localhost:8080/",
          "height": 206
        },
        "id": "leUkIcvd1w3Y",
        "outputId": "d2b91944-88c7-47cc-9445-3f4a354ad9f9"
      },
      "execution_count": null,
      "outputs": [
        {
          "output_type": "execute_result",
          "data": {
            "text/plain": [
              "   Machine Age (Months)  Mean Time Between Failure (Days)\n",
              "0                     1                                26\n",
              "1                     2                                28\n",
              "2                     3                                24\n",
              "3                     4                                25\n",
              "4                     5                                25"
            ],
            "text/html": [
              "\n",
              "  <div id=\"df-f8544c2d-1772-4397-a76c-180a65d3a6d6\">\n",
              "    <div class=\"colab-df-container\">\n",
              "      <div>\n",
              "<style scoped>\n",
              "    .dataframe tbody tr th:only-of-type {\n",
              "        vertical-align: middle;\n",
              "    }\n",
              "\n",
              "    .dataframe tbody tr th {\n",
              "        vertical-align: top;\n",
              "    }\n",
              "\n",
              "    .dataframe thead th {\n",
              "        text-align: right;\n",
              "    }\n",
              "</style>\n",
              "<table border=\"1\" class=\"dataframe\">\n",
              "  <thead>\n",
              "    <tr style=\"text-align: right;\">\n",
              "      <th></th>\n",
              "      <th>Machine Age (Months)</th>\n",
              "      <th>Mean Time Between Failure (Days)</th>\n",
              "    </tr>\n",
              "  </thead>\n",
              "  <tbody>\n",
              "    <tr>\n",
              "      <th>0</th>\n",
              "      <td>1</td>\n",
              "      <td>26</td>\n",
              "    </tr>\n",
              "    <tr>\n",
              "      <th>1</th>\n",
              "      <td>2</td>\n",
              "      <td>28</td>\n",
              "    </tr>\n",
              "    <tr>\n",
              "      <th>2</th>\n",
              "      <td>3</td>\n",
              "      <td>24</td>\n",
              "    </tr>\n",
              "    <tr>\n",
              "      <th>3</th>\n",
              "      <td>4</td>\n",
              "      <td>25</td>\n",
              "    </tr>\n",
              "    <tr>\n",
              "      <th>4</th>\n",
              "      <td>5</td>\n",
              "      <td>25</td>\n",
              "    </tr>\n",
              "  </tbody>\n",
              "</table>\n",
              "</div>\n",
              "      <button class=\"colab-df-convert\" onclick=\"convertToInteractive('df-f8544c2d-1772-4397-a76c-180a65d3a6d6')\"\n",
              "              title=\"Convert this dataframe to an interactive table.\"\n",
              "              style=\"display:none;\">\n",
              "        \n",
              "  <svg xmlns=\"http://www.w3.org/2000/svg\" height=\"24px\"viewBox=\"0 0 24 24\"\n",
              "       width=\"24px\">\n",
              "    <path d=\"M0 0h24v24H0V0z\" fill=\"none\"/>\n",
              "    <path d=\"M18.56 5.44l.94 2.06.94-2.06 2.06-.94-2.06-.94-.94-2.06-.94 2.06-2.06.94zm-11 1L8.5 8.5l.94-2.06 2.06-.94-2.06-.94L8.5 2.5l-.94 2.06-2.06.94zm10 10l.94 2.06.94-2.06 2.06-.94-2.06-.94-.94-2.06-.94 2.06-2.06.94z\"/><path d=\"M17.41 7.96l-1.37-1.37c-.4-.4-.92-.59-1.43-.59-.52 0-1.04.2-1.43.59L10.3 9.45l-7.72 7.72c-.78.78-.78 2.05 0 2.83L4 21.41c.39.39.9.59 1.41.59.51 0 1.02-.2 1.41-.59l7.78-7.78 2.81-2.81c.8-.78.8-2.07 0-2.86zM5.41 20L4 18.59l7.72-7.72 1.47 1.35L5.41 20z\"/>\n",
              "  </svg>\n",
              "      </button>\n",
              "      \n",
              "  <style>\n",
              "    .colab-df-container {\n",
              "      display:flex;\n",
              "      flex-wrap:wrap;\n",
              "      gap: 12px;\n",
              "    }\n",
              "\n",
              "    .colab-df-convert {\n",
              "      background-color: #E8F0FE;\n",
              "      border: none;\n",
              "      border-radius: 50%;\n",
              "      cursor: pointer;\n",
              "      display: none;\n",
              "      fill: #1967D2;\n",
              "      height: 32px;\n",
              "      padding: 0 0 0 0;\n",
              "      width: 32px;\n",
              "    }\n",
              "\n",
              "    .colab-df-convert:hover {\n",
              "      background-color: #E2EBFA;\n",
              "      box-shadow: 0px 1px 2px rgba(60, 64, 67, 0.3), 0px 1px 3px 1px rgba(60, 64, 67, 0.15);\n",
              "      fill: #174EA6;\n",
              "    }\n",
              "\n",
              "    [theme=dark] .colab-df-convert {\n",
              "      background-color: #3B4455;\n",
              "      fill: #D2E3FC;\n",
              "    }\n",
              "\n",
              "    [theme=dark] .colab-df-convert:hover {\n",
              "      background-color: #434B5C;\n",
              "      box-shadow: 0px 1px 3px 1px rgba(0, 0, 0, 0.15);\n",
              "      filter: drop-shadow(0px 1px 2px rgba(0, 0, 0, 0.3));\n",
              "      fill: #FFFFFF;\n",
              "    }\n",
              "  </style>\n",
              "\n",
              "      <script>\n",
              "        const buttonEl =\n",
              "          document.querySelector('#df-f8544c2d-1772-4397-a76c-180a65d3a6d6 button.colab-df-convert');\n",
              "        buttonEl.style.display =\n",
              "          google.colab.kernel.accessAllowed ? 'block' : 'none';\n",
              "\n",
              "        async function convertToInteractive(key) {\n",
              "          const element = document.querySelector('#df-f8544c2d-1772-4397-a76c-180a65d3a6d6');\n",
              "          const dataTable =\n",
              "            await google.colab.kernel.invokeFunction('convertToInteractive',\n",
              "                                                     [key], {});\n",
              "          if (!dataTable) return;\n",
              "\n",
              "          const docLinkHtml = 'Like what you see? Visit the ' +\n",
              "            '<a target=\"_blank\" href=https://colab.research.google.com/notebooks/data_table.ipynb>data table notebook</a>'\n",
              "            + ' to learn more about interactive tables.';\n",
              "          element.innerHTML = '';\n",
              "          dataTable['output_type'] = 'display_data';\n",
              "          await google.colab.output.renderOutput(dataTable, element);\n",
              "          const docLink = document.createElement('div');\n",
              "          docLink.innerHTML = docLinkHtml;\n",
              "          element.appendChild(docLink);\n",
              "        }\n",
              "      </script>\n",
              "    </div>\n",
              "  </div>\n",
              "  "
            ]
          },
          "metadata": {},
          "execution_count": 17
        }
      ]
    },
    {
      "cell_type": "code",
      "source": [
        "# HyperParameters\n",
        "learning_rate = 0.02\n",
        "training_epochs = 3000"
      ],
      "metadata": {
        "id": "VsZohwPp12h9"
      },
      "execution_count": null,
      "outputs": []
    },
    {
      "cell_type": "code",
      "source": [
        "# Parameters\n",
        "display_step = 50"
      ],
      "metadata": {
        "id": "OI8JpPfK2AdQ"
      },
      "execution_count": null,
      "outputs": []
    },
    {
      "cell_type": "code",
      "source": [
        "Months = data ['Machine Age (Months)'].values\n",
        "Days = data ['Mean Time Between Failure (Days)'].values"
      ],
      "metadata": {
        "id": "dxtR6Tpb2x64"
      },
      "execution_count": null,
      "outputs": []
    },
    {
      "cell_type": "code",
      "source": [
        "x_train = numpy.asarray(Months)\t\n",
        "y_train = numpy.asarray(Days)\n"
      ],
      "metadata": {
        "id": "zUsNj7pX2U-f"
      },
      "execution_count": null,
      "outputs": []
    },
    {
      "cell_type": "code",
      "source": [
        "number_of_samples = x_train.shape[0]\n",
        "number_of_samples"
      ],
      "metadata": {
        "colab": {
          "base_uri": "https://localhost:8080/"
        },
        "id": "NwSRLj-T3l1w",
        "outputId": "7930dcbb-b754-4b21-f368-a6bb68a6ca85"
      },
      "execution_count": null,
      "outputs": [
        {
          "output_type": "execute_result",
          "data": {
            "text/plain": [
              "30"
            ]
          },
          "metadata": {},
          "execution_count": 27
        }
      ]
    },
    {
      "cell_type": "code",
      "source": [
        "import tensorflow.compat.v1 as tf\n",
        "tf.disable_v2_behavior() "
      ],
      "metadata": {
        "id": "vAB1KEgH8i5m"
      },
      "execution_count": null,
      "outputs": []
    },
    {
      "cell_type": "code",
      "source": [
        "X =tf.placeholder('float')\n",
        "Y =tf.placeholder('float')"
      ],
      "metadata": {
        "id": "Ujb5VoVc4LpA"
      },
      "execution_count": null,
      "outputs": []
    },
    {
      "cell_type": "code",
      "source": [
        "W = tf.Variable(rng.randn(),name='weight')\n",
        "b = tf.Variable(rng.randn(),name='bias')"
      ],
      "metadata": {
        "id": "VXyFv9xp630w"
      },
      "execution_count": null,
      "outputs": []
    },
    {
      "cell_type": "code",
      "source": [
        "# Construct a linear model (y=WX+b)\n",
        "prediction = tf.add(tf.multiply(X,W),b)"
      ],
      "metadata": {
        "id": "sePm0iEXIEzN"
      },
      "execution_count": null,
      "outputs": []
    },
    {
      "cell_type": "code",
      "source": [
        "# Mean squared error This is the error in the calculation to try to minimize\n",
        "error = tf.reduce_sum(tf.pow(prediction-Y, 2))/(2*number_of_samples)"
      ],
      "metadata": {
        "id": "xoUmNhnkI2Hj"
      },
      "execution_count": null,
      "outputs": []
    },
    {
      "cell_type": "code",
      "source": [
        "#  Note, minimize() knows to modify W and b because Variable objects are trainable=True by default\n",
        "optimizer = tf.train.GradientDescentOptimizer(learning_rate).minimize(error)"
      ],
      "metadata": {
        "id": "RftLgr5fJ4FH"
      },
      "execution_count": null,
      "outputs": []
    },
    {
      "cell_type": "code",
      "source": [
        "init = tf.global_variables_initializer()"
      ],
      "metadata": {
        "id": "BSzkTch9Kv5c"
      },
      "execution_count": null,
      "outputs": []
    },
    {
      "cell_type": "code",
      "source": [
        "# Start training\n",
        "with tf.Session() as sess:\n",
        "\n",
        "    # Run the initializer\n",
        "    sess.run(init)\n",
        "\n",
        "        # Fit all training data\n",
        "    for epoch in range(training_epochs):\n",
        "          for (x, y) in zip(x_train, y_train):\n",
        "               sess.run(optimizer, feed_dict={X: x, Y: y})\n",
        "\n",
        "\n",
        "        # Display logs per epoch step\n",
        "          if (epoch+1) % display_step == 0:\n",
        "              c = sess.run(error, feed_dict={X: x_train, Y:y_train})\n",
        "              print(\"Epoch:\", '%04d' % (epoch+1), \"error=\", \"{:.9f}\".format(c), \\\n",
        "                \"W=\", sess.run(W), \"b=\", sess.run(b))\n",
        "     \n",
        "\n",
        "    print(\"Optimization Finished!\")\n",
        "    training_error = sess.run(error, feed_dict={X: x_train, Y: y_train})\n",
        "    print(\"Training error=\", training_error, \"W=\", sess.run(W), \"b=\", sess.run(b), '\\n')\n",
        "\n",
        "    # Graphic display\n",
        "    plt.plot(x_train, y_train, 'ro', label='Original data')\n",
        "    plt.plot(x_train, sess.run(W) * x_train + sess.run(b), label='Fitted line')\n",
        "    plt.legend()\n",
        "    plt.show()\n",
        "\n",
        "\n",
        "       # Testing example, as requested (Issue #2)\n",
        "    x_test = numpy.asarray([2,4,6,8,10])\n",
        "    y_test = numpy.asarray([25,23,21,19,17])\n",
        "\n",
        "    print(\"Testing... (Mean square loss Comparison)\")\n",
        "    testing_error = sess.run(\n",
        "        tf.reduce_sum(tf.pow(prediction - Y, 2)) / (2 * test_X.shape[0]),\n",
        "        feed_dict={X: x_test, Y: y_test})  # same function as cost above\n",
        "    print(\"Testing error=\", testing_error)\n",
        "    print(\"Absolute mean square loss difference:\", abs(\n",
        "        training_error - testing_error))\n",
        "\n",
        "    plt.plot(x_test, y_test, 'bo', label='Testing data')\n",
        "    plt.plot(x_train, sess.run(W) * x_train + sess.run(b), label='Fitted line')\n",
        "    plt.legend()\n",
        "    plt.show()\n"
      ],
      "metadata": {
        "colab": {
          "base_uri": "https://localhost:8080/",
          "height": 1000
        },
        "id": "zYl-zEc3K8cG",
        "outputId": "3ab46416-5f0c-4962-b419-4e3d842a1766"
      },
      "execution_count": null,
      "outputs": [
        {
          "output_type": "stream",
          "name": "stdout",
          "text": [
            "Epoch: 0050 error= 78.337974548 W= 0.2093423 b= 5.0878468\n",
            "Epoch: 0100 error= 52.128349304 W= 0.06510021 b= 9.293455\n",
            "Epoch: 0150 error= 34.843975067 W= -0.052050784 b= 12.70918\n",
            "Epoch: 0200 error= 23.446281433 W= -0.14719822 b= 15.4833555\n",
            "Epoch: 0250 error= 15.930858612 W= -0.22447589 b= 17.73651\n",
            "Epoch: 0300 error= 10.975846291 W= -0.28723925 b= 19.566477\n",
            "Epoch: 0350 error= 7.709399700 W= -0.33821312 b= 21.0527\n",
            "Epoch: 0400 error= 5.556274891 W= -0.37961406 b= 22.259811\n",
            "Epoch: 0450 error= 4.137267113 W= -0.4132399 b= 23.240227\n",
            "Epoch: 0500 error= 3.202290535 W= -0.44055057 b= 24.036512\n",
            "Epoch: 0550 error= 2.586435795 W= -0.46273082 b= 24.683212\n",
            "Epoch: 0600 error= 2.180871248 W= -0.48074633 b= 25.208483\n",
            "Epoch: 0650 error= 1.913930178 W= -0.49537736 b= 25.635075\n",
            "Epoch: 0700 error= 1.738300443 W= -0.50726104 b= 25.981564\n",
            "Epoch: 0750 error= 1.622834921 W= -0.516912 b= 26.26295\n",
            "Epoch: 0800 error= 1.546969175 W= -0.5247508 b= 26.491505\n",
            "Epoch: 0850 error= 1.497170091 W= -0.53111786 b= 26.677147\n",
            "Epoch: 0900 error= 1.464530230 W= -0.53628796 b= 26.827887\n",
            "Epoch: 0950 error= 1.443163395 W= -0.54048675 b= 26.950312\n",
            "Epoch: 1000 error= 1.429196596 W= -0.5438983 b= 27.04978\n",
            "Epoch: 1050 error= 1.420096397 W= -0.54666764 b= 27.130526\n",
            "Epoch: 1100 error= 1.414180398 W= -0.548917 b= 27.19611\n",
            "Epoch: 1150 error= 1.410346031 W= -0.55074537 b= 27.249418\n",
            "Epoch: 1200 error= 1.407876253 W= -0.5522297 b= 27.292694\n",
            "Epoch: 1250 error= 1.406294942 W= -0.55343455 b= 27.327824\n",
            "Epoch: 1300 error= 1.405289054 W= -0.5544138 b= 27.356377\n",
            "Epoch: 1350 error= 1.404656768 W= -0.55520886 b= 27.379557\n",
            "Epoch: 1400 error= 1.404265404 W= -0.5558539 b= 27.398365\n",
            "Epoch: 1450 error= 1.404026151 W= -0.5563807 b= 27.413725\n",
            "Epoch: 1500 error= 1.403886080 W= -0.556806 b= 27.426126\n",
            "Epoch: 1550 error= 1.403807282 W= -0.55715156 b= 27.436201\n",
            "Epoch: 1600 error= 1.403765440 W= -0.55743676 b= 27.444515\n",
            "Epoch: 1650 error= 1.403747916 W= -0.55766046 b= 27.451038\n",
            "Epoch: 1700 error= 1.403743029 W= -0.55784506 b= 27.456419\n",
            "Epoch: 1750 error= 1.403745890 W= -0.55799884 b= 27.460905\n",
            "Epoch: 1800 error= 1.403752565 W= -0.55812067 b= 27.464457\n",
            "Epoch: 1850 error= 1.403760910 W= -0.558222 b= 27.467411\n",
            "Epoch: 1900 error= 1.403770685 W= -0.5583121 b= 27.47004\n",
            "Epoch: 1950 error= 1.403779745 W= -0.5583836 b= 27.472122\n",
            "Epoch: 2000 error= 1.403787732 W= -0.55843633 b= 27.473661\n",
            "Epoch: 2050 error= 1.403793931 W= -0.5584768 b= 27.47484\n",
            "Epoch: 2100 error= 1.403799057 W= -0.5585079 b= 27.475748\n",
            "Epoch: 2150 error= 1.403803229 W= -0.5585319 b= 27.476446\n",
            "Epoch: 2200 error= 1.403806210 W= -0.5585482 b= 27.476923\n",
            "Epoch: 2250 error= 1.403808355 W= -0.5585616 b= 27.477312\n",
            "Epoch: 2300 error= 1.403810859 W= -0.55857366 b= 27.477665\n",
            "Epoch: 2350 error= 1.403813243 W= -0.55858535 b= 27.478004\n",
            "Epoch: 2400 error= 1.403814554 W= -0.5585945 b= 27.478271\n",
            "Epoch: 2450 error= 1.403815985 W= -0.5586003 b= 27.478441\n",
            "Epoch: 2500 error= 1.403816581 W= -0.5586036 b= 27.478537\n",
            "Epoch: 2550 error= 1.403817534 W= -0.5586082 b= 27.47867\n",
            "Epoch: 2600 error= 1.403818727 W= -0.5586143 b= 27.47885\n",
            "Epoch: 2650 error= 1.403819561 W= -0.5586176 b= 27.478945\n",
            "Epoch: 2700 error= 1.403820753 W= -0.5586236 b= 27.47912\n",
            "Epoch: 2750 error= 1.403821707 W= -0.55863 b= 27.479305\n",
            "Epoch: 2800 error= 1.403822541 W= -0.5586332 b= 27.4794\n",
            "Epoch: 2850 error= 1.403823018 W= -0.5586362 b= 27.479488\n",
            "Epoch: 2900 error= 1.403823018 W= -0.5586362 b= 27.479488\n",
            "Epoch: 2950 error= 1.403823018 W= -0.5586362 b= 27.479488\n",
            "Epoch: 3000 error= 1.403823018 W= -0.5586362 b= 27.479488\n",
            "Optimization Finished!\n",
            "Training error= 1.403823 W= -0.5586362 b= 27.479488 \n",
            "\n"
          ]
        },
        {
          "output_type": "display_data",
          "data": {
            "text/plain": [
              "<Figure size 640x480 with 1 Axes>"
            ],
            "image/png": "[encoded data removed]"
          },
          "metadata": {}
        },
        {
          "output_type": "stream",
          "name": "stdout",
          "text": [
            "Testing... (Mean square loss Comparison)\n",
            "Testing error= 5.6703725\n",
            "Absolute mean square loss difference: 4.2665496\n"
          ]
        },
        {
          "output_type": "display_data",
          "data": {
            "text/plain": [
              "<Figure size 640x480 with 1 Axes>"
            ],
            "image/png": "[encoded data removed]"
          },
          "metadata": {}
        }
      ]
    }
  ]
}