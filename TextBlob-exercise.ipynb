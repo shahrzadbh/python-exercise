{
 "cells": [
  {
   "cell_type": "code",
   "execution_count": 16,
   "id": "ba5af40b",
   "metadata": {},
   "outputs": [],
   "source": [
    "#pip install textblob"
   ]
  },
  {
   "cell_type": "code",
   "execution_count": 17,
   "id": "14425e13",
   "metadata": {},
   "outputs": [],
   "source": [
    "from textblob import TextBlob\n"
   ]
  },
  {
   "cell_type": "code",
   "execution_count": 18,
   "id": "0ab44c8a",
   "metadata": {},
   "outputs": [],
   "source": [
    "a = TextBlob('my country is Iran')"
   ]
  },
  {
   "cell_type": "code",
   "execution_count": 19,
   "id": "aea5cf02",
   "metadata": {},
   "outputs": [
    {
     "data": {
      "text/plain": [
       "TextBlob(\"my country is Iran\")"
      ]
     },
     "execution_count": 19,
     "metadata": {},
     "output_type": "execute_result"
    }
   ],
   "source": [
    "a"
   ]
  },
  {
   "cell_type": "markdown",
   "id": "bb5aa1a9",
   "metadata": {},
   "source": [
    "##### Spelling Correction"
   ]
  },
  {
   "cell_type": "code",
   "execution_count": 20,
   "id": "849ab9e3",
   "metadata": {},
   "outputs": [],
   "source": [
    "a = TextBlob('my contry is Iran')"
   ]
  },
  {
   "cell_type": "code",
   "execution_count": 21,
   "id": "eeb152aa",
   "metadata": {},
   "outputs": [
    {
     "data": {
      "text/plain": [
       "TextBlob(\"my country is Ran\")"
      ]
     },
     "execution_count": 21,
     "metadata": {},
     "output_type": "execute_result"
    }
   ],
   "source": [
    "a.correct()"
   ]
  },
  {
   "cell_type": "code",
   "execution_count": 22,
   "id": "1e7df901",
   "metadata": {},
   "outputs": [],
   "source": [
    "a = TextBlob('maachin learnin')"
   ]
  },
  {
   "cell_type": "code",
   "execution_count": 23,
   "id": "297289dc",
   "metadata": {},
   "outputs": [
    {
     "data": {
      "text/plain": [
       "TextBlob(\"machine learning\")"
      ]
     },
     "execution_count": 23,
     "metadata": {},
     "output_type": "execute_result"
    }
   ],
   "source": [
    "a.correct()"
   ]
  },
  {
   "cell_type": "markdown",
   "id": "c5441874",
   "metadata": {},
   "source": [
    "##### Sentiment analysis"
   ]
  },
  {
   "cell_type": "code",
   "execution_count": 24,
   "id": "66353728",
   "metadata": {},
   "outputs": [],
   "source": [
    "a = TextBlob('TextBlob is very good')"
   ]
  },
  {
   "cell_type": "code",
   "execution_count": 25,
   "id": "b10c0392",
   "metadata": {},
   "outputs": [
    {
     "data": {
      "text/plain": [
       "Sentiment(polarity=0.9099999999999999, subjectivity=0.7800000000000001)"
      ]
     },
     "execution_count": 25,
     "metadata": {},
     "output_type": "execute_result"
    }
   ],
   "source": [
    "a.sentiment"
   ]
  },
  {
   "cell_type": "code",
   "execution_count": 26,
   "id": "e817348e",
   "metadata": {},
   "outputs": [],
   "source": [
    "a = TextBlob('TextBlob is hard for me')"
   ]
  },
  {
   "cell_type": "code",
   "execution_count": 27,
   "id": "1e87e8f9",
   "metadata": {},
   "outputs": [
    {
     "data": {
      "text/plain": [
       "Sentiment(polarity=-0.2916666666666667, subjectivity=0.5416666666666666)"
      ]
     },
     "execution_count": 27,
     "metadata": {},
     "output_type": "execute_result"
    }
   ],
   "source": [
    "a.sentiment"
   ]
  },
  {
   "cell_type": "markdown",
   "id": "ef3eb82b",
   "metadata": {},
   "source": [
    "##### Upper and lower text"
   ]
  },
  {
   "cell_type": "code",
   "execution_count": 30,
   "id": "34bd941b",
   "metadata": {},
   "outputs": [],
   "source": [
    "a = TextBlob('TextBlob is hard for me')"
   ]
  },
  {
   "cell_type": "code",
   "execution_count": 34,
   "id": "1d6637b6",
   "metadata": {},
   "outputs": [
    {
     "data": {
      "text/plain": [
       "TextBlob(\"TEXTBLOB IS HARD FOR ME\")"
      ]
     },
     "execution_count": 34,
     "metadata": {},
     "output_type": "execute_result"
    }
   ],
   "source": [
    "a.upper()"
   ]
  },
  {
   "cell_type": "code",
   "execution_count": 37,
   "id": "1b691d64",
   "metadata": {},
   "outputs": [],
   "source": [
    "a = TextBlob('TextBlob is hard for me')"
   ]
  },
  {
   "cell_type": "code",
   "execution_count": 38,
   "id": "9c3aa963",
   "metadata": {},
   "outputs": [
    {
     "data": {
      "text/plain": [
       "TextBlob(\"textblob is hard for me\")"
      ]
     },
     "execution_count": 38,
     "metadata": {},
     "output_type": "execute_result"
    }
   ],
   "source": [
    "a.lower()"
   ]
  },
  {
   "cell_type": "code",
   "execution_count": 50,
   "id": "1dca6adb",
   "metadata": {},
   "outputs": [],
   "source": [
    "a = TextBlob('TextBlob is hard for me')"
   ]
  },
  {
   "cell_type": "code",
   "execution_count": 54,
   "id": "8c11f5d2",
   "metadata": {},
   "outputs": [
    {
     "data": {
      "text/plain": [
       "WordList(['TextBlob', 'is', 'hard', 'for', 'me'])"
      ]
     },
     "execution_count": 54,
     "metadata": {},
     "output_type": "execute_result"
    }
   ],
   "source": [
    "a.split()"
   ]
  },
  {
   "cell_type": "code",
   "execution_count": 58,
   "id": "57afeca3",
   "metadata": {},
   "outputs": [],
   "source": [
    "a = TextBlob('TextBlob is hard for me')"
   ]
  },
  {
   "cell_type": "code",
   "execution_count": null,
   "id": "fbaef3dd",
   "metadata": {},
   "outputs": [],
   "source": []
  }
 ],
 "metadata": {
  "kernelspec": {
   "display_name": "Python 3 (ipykernel)",
   "language": "python",
   "name": "python3"
  },
  "language_info": {
   "codemirror_mode": {
    "name": "ipython",
    "version": 3
   },
   "file_extension": ".py",
   "mimetype": "text/x-python",
   "name": "python",
   "nbconvert_exporter": "python",
   "pygments_lexer": "ipython3",
   "version": "3.10.2"
  }
 },
 "nbformat": 4,
 "nbformat_minor": 5
}
